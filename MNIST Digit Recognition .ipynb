{
 "cells": [
  {
   "cell_type": "code",
   "execution_count": 19,
   "metadata": {},
   "outputs": [],
   "source": [
    "#learning machine learning using the MNIST digit recognition data set.\n",
    "#based on the \"tutorial\" here: https://www.kaggle.com/yassineghouzam/introduction-to-cnn-keras-0-997-top-6/notebook\n",
    "import numpy as np\n",
    "import pandas as pd\n",
    "\n",
    "import matplotlib.pyplot as plt\n",
    "import matplotlib.image as mpimg\n",
    "import seaborn as sns\n",
    "%matplotlib inline\n",
    "\n",
    "np.random.seed(2)\n",
    "\n",
    "from sklearn.model_selection import train_test_split\n",
    "from sklearn.metrics import confusion_matrix\n",
    "import itertools\n",
    "\n",
    "from keras.utils.np_utils import to_categorical #convert to one-hot-encoding\n",
    "from keras.models import Sequential\n",
    "from keras.layers import Dense, Dropout, Flatten, Conv2D, MaxPool2D\n",
    "from keras.optimizers import RMSprop\n",
    "from keras.preprocessing.image import ImageDataGenerator\n",
    "from keras.callbacks import ReduceLROnPlateau\n",
    "\n",
    "sns.set(style='white', context='notebook', palette='deep')"
   ]
  },
  {
   "cell_type": "code",
   "execution_count": 32,
   "metadata": {},
   "outputs": [
    {
     "data": {
      "text/plain": [
       "1    4684\n",
       "7    4401\n",
       "3    4351\n",
       "9    4188\n",
       "2    4177\n",
       "6    4137\n",
       "0    4132\n",
       "4    4072\n",
       "8    4063\n",
       "5    3795\n",
       "Name: label, dtype: int64"
      ]
     },
     "execution_count": 32,
     "metadata": {},
     "output_type": "execute_result"
    },
    {
     "data": {
      "image/png": "[encoded data removed]",
      "text/plain": [
       "<Figure size 432x288 with 1 Axes>"
      ]
     },
     "metadata": {},
     "output_type": "display_data"
    }
   ],
   "source": [
    "#load data\n",
    "train = pd.read_csv(\"input/train.csv\")\n",
    "test = pd.read_csv(\"input/test.csv\")\n",
    "\n",
    "#make the label column into the Y_train\n",
    "Y_train = train[\"label\"]\n",
    "\n",
    "#drop the label column from X\n",
    "X_train = train.drop(labels = [\"label\"], axis = 1)\n",
    "\n",
    "# delete the variable train to free up some space and we don't need it anymore\n",
    "del train\n",
    "\n",
    "g = sns.countplot(Y_train)\n",
    "\n",
    "Y_train.value_counts()\n",
    "\n",
    "#print(X_train.shape) can print the top rows and the size if you want.\n",
    "#X_train.head()"
   ]
  },
  {
   "cell_type": "code",
   "execution_count": 33,
   "metadata": {},
   "outputs": [
    {
     "data": {
      "text/plain": [
       "count       784\n",
       "unique        1\n",
       "top       False\n",
       "freq        784\n",
       "dtype: object"
      ]
     },
     "execution_count": 33,
     "metadata": {},
     "output_type": "execute_result"
    }
   ],
   "source": [
    "#check for null or mising values in train set\n",
    "X_train.isnull().any().describe()"
   ]
  },
  {
   "cell_type": "code",
   "execution_count": 34,
   "metadata": {},
   "outputs": [
    {
     "data": {
      "text/plain": [
       "count       784\n",
       "unique        1\n",
       "top       False\n",
       "freq        784\n",
       "dtype: object"
      ]
     },
     "execution_count": 34,
     "metadata": {},
     "output_type": "execute_result"
    }
   ],
   "source": [
    "#do the same for the test set\n",
    "test.isnull().any().describe()"
   ]
  },
  {
   "cell_type": "code",
   "execution_count": 35,
   "metadata": {},
   "outputs": [],
   "source": [
    "#no issues (no nulls/missing values)"
   ]
  },
  {
   "cell_type": "code",
   "execution_count": 36,
   "metadata": {},
   "outputs": [],
   "source": [
    "#Normalization\n",
    "#CNN converge faster on 0...1 than 0...255; that and we can eliminate any differences in the images colorization\n",
    "X_train = X_train / 255.0\n",
    "test = test / 255.0"
   ]
  },
  {
   "cell_type": "code",
   "execution_count": 37,
   "metadata": {},
   "outputs": [],
   "source": [
    "#reshape the train and test\n",
    "#the train and test images were stored as 1D vectors of 784 values. We'll reshape them until 3D matrices so 28x28x1 3D vectors.\n",
    "#the last dimension of the new reshaped matrix refers to the channels. Since we've grey-scaled there's only 1 channel but if we had used color (3 channels), the matrix would have 28x28x3\n",
    "\n",
    "X_train = X_train.values.reshape(-1, 28, 28, 1) #-1 means that we want python to figure out that dimension on it's own\n",
    "test = test.values.reshape(-1, 28, 28, 1)"
   ]
  },
  {
   "cell_type": "code",
   "execution_count": 38,
   "metadata": {},
   "outputs": [],
   "source": [
    "#label encoding\n",
    "#one-hot vector -> convert labels into one hot vectors such that for example a 2 is [0, 0, 1, 0, 0, 0, 0, 0, 0, 0]\n",
    "Y_train = to_categorical(Y_train, num_classes = 10) #there are 10 possible values for the label"
   ]
  },
  {
   "cell_type": "code",
   "execution_count": 39,
   "metadata": {},
   "outputs": [],
   "source": [
    "#split training set in two: a training set and a validation set\n",
    "#set a random seed\n",
    "random_seed = 2"
   ]
  },
  {
   "cell_type": "code",
   "execution_count": 40,
   "metadata": {},
   "outputs": [],
   "source": [
    "X_train, X_val, Y_train, Y_val = train_test_split(X_train, Y_train, test_size = 0.1, random_state=random_seed)"
   ]
  },
  {
   "cell_type": "code",
   "execution_count": 42,
   "metadata": {},
   "outputs": [
    {
     "data": {
      "image/png": "[encoded data removed]",
      "text/plain": [
       "<Figure size 432x288 with 1 Axes>"
      ]
     },
     "metadata": {},
     "output_type": "display_data"
    }
   ],
   "source": [
    "#plot some examples\n",
    "g = plt.imshow(X_train[0][:,:,0])"
   ]
  },
  {
   "cell_type": "code",
   "execution_count": 46,
   "metadata": {},
   "outputs": [
    {
     "name": "stderr",
     "output_type": "stream",
     "text": [
      "W0923 12:07:44.715214 140510614759232 deprecation_wrapper.py:119] From /home/karen/anaconda3/lib/python3.7/site-packages/keras/backend/tensorflow_backend.py:3976: The name tf.nn.max_pool is deprecated. Please use tf.nn.max_pool2d instead.\n",
      "\n",
      "W0923 12:07:44.720539 140510614759232 deprecation_wrapper.py:119] From /home/karen/anaconda3/lib/python3.7/site-packages/keras/backend/tensorflow_backend.py:133: The name tf.placeholder_with_default is deprecated. Please use tf.compat.v1.placeholder_with_default instead.\n",
      "\n",
      "W0923 12:07:44.738081 140510614759232 deprecation.py:506] From /home/karen/anaconda3/lib/python3.7/site-packages/keras/backend/tensorflow_backend.py:3445: calling dropout (from tensorflow.python.ops.nn_ops) with keep_prob is deprecated and will be removed in a future version.\n",
      "Instructions for updating:\n",
      "Please use `rate` instead of `keep_prob`. Rate should be set to `rate = 1 - keep_prob`.\n"
     ]
    }
   ],
   "source": [
    "#CNN\n",
    "#CNN architechture set as the following: Input -> [[Conv2D->relu]x2 ->MaxPool2D -> Dropout]x2 ->Flatten -> Dense -> Dropout ->Output\n",
    "\n",
    "model = Sequential()\n",
    "\n",
    "#First layer, 32 filters where each filter transforms part of the image, that part of the image is set by the kernal\n",
    "model.add(Conv2D(filters = 32, kernel_size = (5,5),padding = 'Same', activation = 'relu', input_shape = (28, 28, 1)))\n",
    "#Second layer, 32 filters where each filter transforms part of the image, that part of the image is set by the kernal\n",
    "model.add(Conv2D(filters = 32, kernel_size = (5,5), padding = 'Same', activation = 'relu'))\n",
    "#Third layer, pooling where two neighboring pixels are compared and the maximum value is picked. \n",
    "#This reduces computational cost and reduces overfitting. Bigger pooling size, bigger impact.\n",
    "model.add(MaxPool2D(pool_size = (2,2)))\n",
    "#Dropout for regularization\n",
    "model.add(Dropout(0.25))\n",
    "\n",
    "#Above layers again\n",
    "model.add(Conv2D(filters = 64, kernel_size = (3,3), padding = 'Same', activation = 'relu'))\n",
    "model.add(Conv2D(filters = 64, kernel_size = (3,3), padding = 'Same', activation = 'relu'))\n",
    "model.add(MaxPool2D(pool_size = (2, 2), strides = (2,2)))\n",
    "model.add(Dropout(0.25))\n",
    "\n",
    "model.add(Flatten()) #converts final feature map to one single 1D vector and combines the previous layers\n",
    "model.add(Dense(256, activation = 'relu')) #an artifical neural network\n",
    "model.add(Dropout(0.5)) \n",
    "model.add(Dense(10, activation = 'softmax')) #outputs distribution of probability of each class"
   ]
  },
  {
   "cell_type": "code",
   "execution_count": 47,
   "metadata": {},
   "outputs": [],
   "source": [
    "#instead of using Stochastic Gradient Descent as our optimizer (for the cost function), this tutorial is going to use RSMprop."
   ]
  },
  {
   "cell_type": "code",
   "execution_count": 49,
   "metadata": {},
   "outputs": [],
   "source": [
    "#Define the optimizer\"\n",
    "optimizer = RMSprop(lr = 0.001, rho=0.9, epsilon=1e-08, decay=0.0)"
   ]
  },
  {
   "cell_type": "code",
   "execution_count": 52,
   "metadata": {},
   "outputs": [
    {
     "name": "stderr",
     "output_type": "stream",
     "text": [
      "W0923 12:15:25.820435 140510614759232 deprecation_wrapper.py:119] From /home/karen/anaconda3/lib/python3.7/site-packages/keras/backend/tensorflow_backend.py:3295: The name tf.log is deprecated. Please use tf.math.log instead.\n",
      "\n"
     ]
    }
   ],
   "source": [
    "#compile the model\n",
    "#categorical_crossentropy is used because we are trying classify on 2 categories/class\n",
    "#metric function of accuracy is used to evalute the performace of the model, \n",
    "#similar to the loss function, except that the metric evalutions are only used when training the model\n",
    "model.compile(optimizer = optimizer, loss = \"categorical_crossentropy\", metrics=[\"accuracy\"])"
   ]
  },
  {
   "cell_type": "code",
   "execution_count": 53,
   "metadata": {},
   "outputs": [],
   "source": [
    "#use an annealing method on the learning rate - change the learning rate as the model learns so that \n",
    "#the learning rate decreases over time. this helps to find the global minimum quickly\n",
    "#set a learning rate annealer\n",
    "learning_rate_reduction = ReduceLROnPlateau(montitor ='val_acc', patience=3, verbose=1, factor=0.5, min_lr=0.00001)"
   ]
  },
  {
   "cell_type": "code",
   "execution_count": 54,
   "metadata": {},
   "outputs": [],
   "source": [
    "#then to take advantage of this, we'll decrease the LR every X steps (epochs) if it is necessary (the accuracy isn't good enough after 3 steps)\n",
    "epochs=1 #turn epochs to 30 to get 0.9967 accuracy (?)\n",
    "batch_size = 86"
   ]
  },
  {
   "cell_type": "code",
   "execution_count": 59,
   "metadata": {},
   "outputs": [],
   "source": [
    "#data augumentation (expand the dataset artifically)\n",
    "datagen = ImageDataGenerator(\n",
    "            featurewise_center=False #set input mean to 0 over the dataset\n",
    "            ,samplewise_center=False #set each sample mean to 0\n",
    "            ,featurewise_std_normalization=False #divide inputs by std of the data set\n",
    "            ,samplewise_std_normalization=False #divide each input by its std\n",
    "            ,zca_whitening=False #apply ZCA whitening\n",
    "            ,rotation_range=10 #randomly rotate images in the range (degrees, 0 up to 180)\n",
    "            ,zoom_range=0.1 #randomly zoom image\n",
    "            ,width_shift_range=0.1 #randomly shift images horizontally (fraction of total width)\n",
    "            ,height_shift_range=0.1 #randomly shift images vertically (fraction of total height)\n",
    "            ,horizontal_flip=False #horizontal flip = no\n",
    "            ,vertical_flip=False #vertical flip = no\n",
    "            )\n",
    "datagen.fit(X_train)"
   ]
  },
  {
   "cell_type": "code",
   "execution_count": 61,
   "metadata": {},
   "outputs": [
    {
     "name": "stdout",
     "output_type": "stream",
     "text": [
      "Epoch 1/1\n",
      " - 255s - loss: 0.2422 - acc: 0.9268 - val_loss: 0.0621 - val_acc: 0.9824\n"
     ]
    }
   ],
   "source": [
    "#fit the model\n",
    "#fit_generator allows you to augument the data parallel to running the model\n",
    "history=model.fit_generator(datagen.flow(X_train, Y_train, batch_size = batch_size), \n",
    "                            epochs=epochs #arbitrary cutt-off/\"one pass over the entire dataset\"\n",
    "                            ,validation_data = (X_val, Y_val)\n",
    "                           ,verbose =2\n",
    "                           ,steps_per_epoch=X_train.shape[0] //batch_size\n",
    "                           ,callbacks=[learning_rate_reduction]) #run this at the end of every epoch (in this case\n",
    "                            #redefine the learning rate after each pass over the data)"
   ]
  },
  {
   "cell_type": "code",
   "execution_count": 65,
   "metadata": {},
   "outputs": [
    {
     "data": {
      "image/png": "[encoded data removed]",
      "text/plain": [
       "<Figure size 432x288 with 2 Axes>"
      ]
     },
     "metadata": {},
     "output_type": "display_data"
    }
   ],
   "source": [
    "#evaluate the model\n",
    "#training and validation curves\n",
    "#plot the loss and accuracy curves for training and validation\n",
    "fig, ax = plt.subplots(2,1)\n",
    "ax[0].plot(history.history['loss'], color='b', label=\"Training loss\")\n",
    "ax[0].plot(history.history['val_loss'], color='r', label=\"validation loss\",axes =ax[0])\n",
    "legend = ax[0].legend(loc='best', shadow=True)\n",
    "\n",
    "ax[1].plot(history.history['acc'], color='b', label=\"Training accuracy\")\n",
    "ax[1].plot(history.history['val_acc'], color='r',label=\"Validation accuracy\")\n",
    "legend = ax[1].legend(loc='best', shadow=True)"
   ]
  },
  {
   "cell_type": "code",
   "execution_count": 68,
   "metadata": {},
   "outputs": [
    {
     "data": {
      "image/png": "[encoded data removed]",
      "text/plain": [
       "<Figure size 432x288 with 2 Axes>"
      ]
     },
     "metadata": {},
     "output_type": "display_data"
    }
   ],
   "source": [
    "#plot a confusion matrix\n",
    "def plot_confusion_matrix(cm, classes, normalize=False, title='Confusion Matrix', cmap=plt.cm.Blues):\n",
    "    plt.imshow(cm,interpolation='nearest', cmap=cmap)\n",
    "    plt.title(title)\n",
    "    plt.colorbar()\n",
    "    tick_marks=np.arange(len(classes))\n",
    "    plt.xticks(tick_marks, classes, rotation=45)\n",
    "    plt.yticks(tick_marks, classes)\n",
    "    \n",
    "    if normalize:\n",
    "            cm=cm.astype('float')/cm.sum(axis=1)[:, np.newaxis]\n",
    "            \n",
    "    thresh = cm.max()/2.\n",
    "    for i, j in itertools.product(range(cm.shape[0]), range(cm.shape[1])):\n",
    "        plt.text(j, i, cm[i,j],\n",
    "                horizontalalignment=\"center\",\n",
    "                color=\"white\" if cm[i,j]>thresh else \"black\")\n",
    "    plt.tight_layout()\n",
    "    plt.ylabel('True Label')\n",
    "    plt.xlabel('Predicted Label')\n",
    "    \n",
    "#predict values from validation dataset\n",
    "Y_pred = model.predict(X_val)\n",
    "#convert predictions classes to one hot vectors\n",
    "Y_pred_classes = np.argmax(Y_pred, axis=1)\n",
    "#convert validation observations to one hot vectors\n",
    "Y_true = np.argmax(Y_val, axis = 1)\n",
    "#compute the confusion matrix\n",
    "confusion_mtx = confusion_matrix(Y_true, Y_pred_classes)\n",
    "#plot\n",
    "plot_confusion_matrix(confusion_mtx, classes = range(10))"
   ]
  },
  {
   "cell_type": "code",
   "execution_count": null,
   "metadata": {},
   "outputs": [],
   "source": []
  }
 ],
 "metadata": {
  "kernelspec": {
   "display_name": "Python 3",
   "language": "python",
   "name": "python3"
  },
  "language_info": {
   "codemirror_mode": {
    "name": "ipython",
    "version": 3
   },
   "file_extension": ".py",
   "mimetype": "text/x-python",
   "name": "python",
   "nbconvert_exporter": "python",
   "pygments_lexer": "ipython3",
   "version": "3.7.3"
  }
 },
 "nbformat": 4,
 "nbformat_minor": 2
}
